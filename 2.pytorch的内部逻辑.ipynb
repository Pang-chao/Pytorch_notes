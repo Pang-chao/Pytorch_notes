{
 "cells": [
  {
   "cell_type": "markdown",
   "metadata": {
    "collapsed": true,
    "pycharm": {
     "name": "#%% md\n"
    }
   },
   "source": [
    "标准的Python数据结构是一个单层内存对象。但Pytorch的数据结构是分层设计的，内存效率高。\n",
    "为了加速，内核的计算密集部分已迁移到C/C++后端。Pytorch面向对象的数据结构是一个THTensor对象，保存\n",
    "有关维度，偏移，步长等信息。THTensor存储的另一个主要信息是指向THStorage的指针，它是为存储而保留的\n",
    "张量对象的内部层。THStorage负责保持指针指向原始数据和分配器。下面是一些实例："
   ]
  },
  {
   "cell_type": "markdown",
   "source": [
    "创建2*2的x张量。然后创建它的另一个视图xv。最后调用numpy创建Numpy数组。\n"
   ],
   "metadata": {
    "collapsed": false
   }
  },
  {
   "cell_type": "code",
   "execution_count": 1,
   "outputs": [
    {
     "name": "stdout",
     "output_type": "stream",
     "text": [
      "tensor([[1., 1.],\n",
      "        [1., 1.]])\n",
      "tensor([1., 1., 1., 1.])\n",
      "[[1. 1.]\n",
      " [1. 1.]]\n"
     ]
    }
   ],
   "source": [
    "import torch\n",
    "import numpy as np\n",
    "\n",
    "x = torch.ones(2,2)\n",
    "xv = x.view(-1)\n",
    "xn = x.numpy()\n",
    "print(x)\n",
    "print(xv)\n",
    "print(xn)"
   ],
   "metadata": {
    "collapsed": false,
    "pycharm": {
     "name": "#%%\n"
    }
   }
  },
  {
   "cell_type": "markdown",
   "source": [
    "storage方法返回THStorage对象，它的data_ptr指向原始数据对象。\n",
    "可以看到x与xv是相同的。\n"
   ],
   "metadata": {
    "collapsed": false,
    "pycharm": {
     "name": "#%% md\n"
    }
   }
  },
  {
   "cell_type": "code",
   "execution_count": 2,
   "outputs": [
    {
     "data": {
      "text/plain": " 1.0\n 1.0\n 1.0\n 1.0\n[torch.FloatStorage of size 4]"
     },
     "execution_count": 2,
     "metadata": {},
     "output_type": "execute_result"
    }
   ],
   "source": [
    "x.storage()"
   ],
   "metadata": {
    "collapsed": false,
    "pycharm": {
     "name": "#%%\n"
    }
   }
  },
  {
   "cell_type": "code",
   "execution_count": 3,
   "outputs": [
    {
     "data": {
      "text/plain": " 1.0\n 1.0\n 1.0\n 1.0\n[torch.FloatStorage of size 4]"
     },
     "execution_count": 3,
     "metadata": {},
     "output_type": "execute_result"
    }
   ],
   "source": [
    "xv.storage()"
   ],
   "metadata": {
    "collapsed": false,
    "pycharm": {
     "name": "#%%\n"
    }
   }
  },
  {
   "cell_type": "code",
   "execution_count": 4,
   "outputs": [
    {
     "data": {
      "text/plain": "True"
     },
     "execution_count": 4,
     "metadata": {},
     "output_type": "execute_result"
    }
   ],
   "source": [
    "x.storage().data_ptr() == xv.storage().data_ptr()"
   ],
   "metadata": {
    "collapsed": false,
    "pycharm": {
     "name": "#%%\n"
    }
   }
  }
 ],
 "metadata": {
  "kernelspec": {
   "display_name": "Python 3",
   "language": "python",
   "name": "python3"
  },
  "language_info": {
   "codemirror_mode": {
    "name": "ipython",
    "version": 2
   },
   "file_extension": ".py",
   "mimetype": "text/x-python",
   "name": "python",
   "nbconvert_exporter": "python",
   "pygments_lexer": "ipython2",
   "version": "2.7.6"
  }
 },
 "nbformat": 4,
 "nbformat_minor": 0
}