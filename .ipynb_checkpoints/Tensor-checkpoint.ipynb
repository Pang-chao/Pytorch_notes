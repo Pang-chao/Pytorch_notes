{
 "cells": [
  {
   "cell_type": "markdown",
   "metadata": {},
   "source": [
    "pytorch基本数据抽象为张量，可以这样创建\n"
   ]
  },
  {
   "cell_type": "code",
   "execution_count": 1,
   "metadata": {
    "pycharm": {
     "name": "#%%\n"
    }
   },
   "outputs": [
    {
     "name": "stdout",
     "output_type": "stream",
     "text": [
      "tensor([[9.4712e+33, 4.5630e-41],\n",
      "        [9.4712e+33, 4.5630e-41],\n",
      "        [0.0000e+00, 0.0000e+00]]) tensor([[0.4401, 0.2416],\n",
      "        [0.7938, 0.5617],\n",
      "        [0.8941, 0.6309]]) tensor([[1., 1.],\n",
      "        [1., 1.],\n",
      "        [1., 1.]]) tensor([[0., 0.],\n",
      "        [0., 0.],\n",
      "        [0., 0.]])\n"
     ]
    }
   ],
   "source": [
    "import torch\n",
    "\n",
    "uninitialized = torch.Tensor(3,2)\n",
    "rand_initialized = torch.rand(3,2)\n",
    "matrix_ones = torch.ones(3,2)\n",
    "matrix_zeros = torch.zeros(3,2)\n",
    "\n",
    "print(uninitialized, rand_initialized, matrix_ones, matrix_zeros)"
   ]
  },
  {
   "cell_type": "code",
   "execution_count": null,
   "metadata": {
    "pycharm": {
     "name": "#%%\n"
    }
   },
   "outputs": [],
   "source": []
  }
 ],
 "metadata": {
  "kernelspec": {
   "display_name": "Python 3 (ipykernel)",
   "language": "python",
   "name": "python3"
  },
  "language_info": {
   "codemirror_mode": {
    "name": "ipython",
    "version": 3
   },
   "file_extension": ".py",
   "mimetype": "text/x-python",
   "name": "python",
   "nbconvert_exporter": "python",
   "pygments_lexer": "ipython3",
   "version": "3.9.7"
  }
 },
 "nbformat": 4,
 "nbformat_minor": 1
}
