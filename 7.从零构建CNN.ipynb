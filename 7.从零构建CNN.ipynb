{
 "cells": [
  {
   "cell_type": "markdown",
   "metadata": {
    "collapsed": true,
    "pycharm": {
     "name": "#%% md\n"
    }
   },
   "source": [
    "MNIST-获取数据"
   ]
  },
  {
   "cell_type": "code",
   "execution_count": 4,
   "metadata": {
    "pycharm": {
     "name": "#%%\n"
    }
   },
   "outputs": [
    {
     "name": "stderr",
     "output_type": "stream",
     "text": [
      "/home/pc/anaconda3/envs/mocnf/lib/python3.9/site-packages/torchvision/datasets/mnist.py:498: UserWarning: The given NumPy array is not writeable, and PyTorch does not support non-writeable tensors. This means you can write to the underlying (supposedly non-writeable) NumPy array using the tensor. You may want to copy the array to protect its data or make it writeable before converting it to a tensor. This type of warning will be suppressed for the rest of this program. (Triggered internally at  /opt/conda/conda-bld/pytorch_1623448255797/work/torch/csrc/utils/tensor_numpy.cpp:180.)\n",
      "  return torch.from_numpy(parsed.astype(m[2], copy=False)).view(*s)\n"
     ]
    }
   ],
   "source": [
    "import torchvision.transforms as transforms\n",
    "import torchvision.datasets as datasets\n",
    "import torch\n",
    "\n",
    "transformation = transforms.Compose([transforms.ToTensor(),\n",
    "                                     transforms.Normalize((0.1307,), (0.3081,))])\n",
    "train_dataset = datasets.MNIST('data/', train=True, transform=transformation, download=False)\n",
    "test_dataset = datasets.MNIST('data/', train=False, transform=transformation, download=False)\n",
    "train_loader = torch.utils.data.DataLoader(train_dataset, batch_size=32,shuffle=True)\n",
    "test_loader = torch.utils.data.DataLoader(test_dataset, batch_size=32,shuffle=True)"
   ]
  },
  {
   "cell_type": "markdown",
   "metadata": {},
   "source": [
    "先来看一下要处理的数据是什么样的。"
   ]
  },
  {
   "cell_type": "code",
   "execution_count": 6,
   "metadata": {
    "pycharm": {
     "name": "#%%\n"
    }
   },
   "outputs": [
    {
     "data": {
      "text/plain": "<Figure size 432x288 with 1 Axes>",
      "image/png": "[encoded data removed]"
     },
     "metadata": {
      "needs_background": "light"
     },
     "output_type": "display_data"
    }
   ],
   "source": [
    "from matplotlib import pyplot as plt\n",
    "\n",
    "def plot_img(image):\n",
    "    image = image.numpy()[0]\n",
    "    mean = 0.1307\n",
    "    std = 0.3081\n",
    "    image = ((mean * image) + std)\n",
    "    plt.imshow(image, cmap='gray')\n",
    "\n",
    "sample_data = next(iter(train_loader))\n",
    "plot_img(sample_data[0][1])"
   ]
  },
  {
   "cell_type": "markdown",
   "metadata": {
    "pycharm": {
     "name": "#%% md\n"
    }
   },
   "source": [
    "网络架构：Conv2d-MaxPool2d-RELU-Conv2d-dropout-MaxPool2d-RELU-view-FC-RELU-dropout-FC-Log_softmax"
   ]
  },
  {
   "cell_type": "code",
   "execution_count": 8,
   "outputs": [],
   "source": [
    "import torch.nn as nn\n",
    "import torch.nn.functional as F\n",
    "\n",
    "class Net(nn.Module):\n",
    "    def __init__(self):\n",
    "        super().__init__()\n",
    "        self.conv1 = nn.Conv2d(1, 10, kernel_size=5)\n",
    "        self.conv2 = nn.Conv2d(10, 20, kernel_size=5)\n",
    "        self.conv2_drop = nn.Dropout2d()\n",
    "        self.fc1 = nn.Linear(320, 50)\n",
    "        self.fc2 = nn.Linear(50, 10)\n",
    "\n",
    "    def forward(self, x):\n",
    "        x = F.relu(F.max_pool2d(self.conv1(x), 2))\n",
    "        x = F.relu(F.max_pool2d(self.conv2_drop(self.conv2(x)), 2))\n",
    "        x = x.view(-1, 320)\n",
    "        x = F.relu(self.fc1(x))\n",
    "        x = F.dropout(x, training=self.training)\n",
    "        x = self.fc2(x)\n",
    "        return F.log_softmax(x)"
   ],
   "metadata": {
    "collapsed": false,
    "pycharm": {
     "name": "#%%\n"
    }
   }
  },
  {
   "cell_type": "markdown",
   "metadata": {
    "pycharm": {
     "name": "#%% md\n"
    }
   },
   "source": [
    "训练模型"
   ]
  },
  {
   "cell_type": "code",
   "execution_count": 20,
   "outputs": [
    {
     "name": "stderr",
     "output_type": "stream",
     "text": [
      "/tmp/ipykernel_19524/3814534869.py:20: UserWarning: Implicit dimension choice for log_softmax has been deprecated. Change the call to include dim=X as an argument.\n",
      "  return F.log_softmax(x)\n"
     ]
    },
    {
     "name": "stdout",
     "output_type": "stream",
     "text": [
      "loss:0.7108553030490875,accuracy:76.73332977294922\n",
      "loss:0.13087592151761054,accuracy:96.0199966430664\n",
      "loss:0.3166411794702212,accuracy:90.66666412353516\n",
      "loss:0.09077916086018085,accuracy:97.19999694824219\n",
      "loss:0.2603184778581063,accuracy:92.42666625976562\n",
      "loss:0.07605187752991915,accuracy:97.66999816894531\n",
      "loss:0.21999452508936326,accuracy:93.51166534423828\n",
      "loss:0.06616937659205868,accuracy:97.94000244140625\n",
      "loss:0.20360338231101632,accuracy:94.05000305175781\n",
      "loss:0.05641131785046309,accuracy:98.19000244140625\n",
      "loss:0.19232547207425038,accuracy:94.36333465576172\n",
      "loss:0.05294570525120944,accuracy:98.31999969482422\n",
      "loss:0.177089246109128,accuracy:94.82166290283203\n",
      "loss:0.05062598988581449,accuracy:98.37000274658203\n",
      "loss:0.17134511339987318,accuracy:95.086669921875\n",
      "loss:0.04748672368163243,accuracy:98.41999816894531\n",
      "loss:0.15686945717831452,accuracy:95.3550033569336\n",
      "loss:0.043827999701397495,accuracy:98.54000091552734\n",
      "loss:0.15164154340798655,accuracy:95.61833190917969\n",
      "loss:0.042071255706902594,accuracy:98.66999816894531\n",
      "loss:0.15000237929274637,accuracy:95.56666564941406\n",
      "loss:0.04184959734224249,accuracy:98.69999694824219\n",
      "loss:0.14250955309545,accuracy:95.76667022705078\n",
      "loss:0.04058480494157411,accuracy:98.73999786376953\n",
      "loss:0.14057714355190595,accuracy:95.94499969482422\n",
      "loss:0.04229149995339103,accuracy:98.69999694824219\n",
      "loss:0.13143823872413488,accuracy:96.20333099365234\n",
      "loss:0.03891252257570159,accuracy:98.7300033569336\n",
      "loss:0.1300996378056705,accuracy:96.1500015258789\n",
      "loss:0.04033243416030891,accuracy:98.80000305175781\n",
      "loss:0.12654134699677427,accuracy:96.30500030517578\n",
      "loss:0.04535493879469577,accuracy:98.62999725341797\n",
      "loss:0.12591669937813033,accuracy:96.32166290283203\n",
      "loss:0.035686539464065574,accuracy:98.88999938964844\n",
      "loss:0.12305039687901735,accuracy:96.44833374023438\n",
      "loss:0.04032412691054633,accuracy:98.73999786376953\n",
      "loss:0.12155709849639486,accuracy:96.34666442871094\n",
      "loss:0.036822046480875,accuracy:98.81999969482422\n"
     ]
    },
    {
     "data": {
      "text/plain": "<matplotlib.legend.Legend at 0x7f14a61c4340>"
     },
     "execution_count": 20,
     "metadata": {},
     "output_type": "execute_result"
    },
    {
     "data": {
      "text/plain": "<Figure size 432x288 with 1 Axes>",
      "image/png": "[encoded data removed]"
     },
     "metadata": {
      "needs_background": "light"
     },
     "output_type": "display_data"
    }
   ],
   "source": [
    "from torch.autograd import Variable\n",
    "import torch.optim as optim\n",
    "\n",
    "model = Net()\n",
    "if torch.cuda.is_available():\n",
    "    model.cuda()\n",
    "#model.cuda()要写在optimizer之前，因为在CPU和GPU上的模型参数不一样\n",
    "optimizer = optim.SGD(model.parameters(), lr=0.01, momentum=0.5)\n",
    "\n",
    "def fit(epoch, model, data_loader, phase='training', volatile=False):\n",
    "    if phase == 'training':\n",
    "        model.train()\n",
    "    if phase == 'validation':\n",
    "        model.eval()\n",
    "        volatile = True\n",
    "    running_loss = 0.0\n",
    "    running_correct = 0\n",
    "    for batch_idx, (data, target) in enumerate(data_loader):\n",
    "        if torch.cuda.is_available():\n",
    "            data, target = data.cuda(), target.cuda()\n",
    "        data, target = Variable(data, volatile), Variable(target)\n",
    "        if phase == 'training':\n",
    "            optimizer.zero_grad()\n",
    "        output = model(data)\n",
    "        loss = F.nll_loss(output, target)\n",
    "        running_loss += F.nll_loss(output, target, size_average=False).item()\n",
    "        preds = output.data.max(dim=1, keepdim=True)[1]\n",
    "        running_correct += preds.eq(target.data.view_as(preds)).cpu().sum()\n",
    "        if phase == 'training':\n",
    "            loss.backward()\n",
    "            optimizer.step()\n",
    "    loss = running_loss / len(data_loader.dataset)\n",
    "    accuracy = 100. * running_correct / len(data_loader.dataset)\n",
    "    print('loss:{0},accuracy:{1}'.format(loss, accuracy))\n",
    "    return loss, accuracy\n",
    "\n",
    "train_losses, train_accuracy = [], []\n",
    "val_losses, val_accuracy = [], []\n",
    "for epoch in range(1, 20):\n",
    "    epoch_loss, epoch_accuracy = fit(epoch, model, train_loader, phase='training')\n",
    "    val_epoch_loss, val_epoch_accuracy = fit(epoch, model, test_loader, phase='validation')\n",
    "    train_losses.append(epoch_loss)\n",
    "    train_accuracy.append(epoch_accuracy)\n",
    "    val_losses.append(val_epoch_loss)\n",
    "    val_accuracy.append(val_epoch_accuracy)\n",
    "\n",
    "plt.plot(range(1, len(train_accuracy)+1), train_accuracy, 'bo', label = 'training accuracy')\n",
    "plt.plot(range(1, len(val_accuracy)+1), val_accuracy, 'r', label = 'validation accuracy')\n",
    "plt.legend()"
   ],
   "metadata": {
    "collapsed": false,
    "pycharm": {
     "name": "#%%\n"
    }
   }
  },
  {
   "cell_type": "code",
   "execution_count": null,
   "metadata": {},
   "outputs": [],
   "source": []
  }
 ],
 "metadata": {
  "kernelspec": {
   "display_name": "Python 3 (ipykernel)",
   "language": "python",
   "name": "python3"
  },
  "language_info": {
   "codemirror_mode": {
    "name": "ipython",
    "version": 3
   },
   "file_extension": ".py",
   "mimetype": "text/x-python",
   "name": "python",
   "nbconvert_exporter": "python",
   "pygments_lexer": "ipython3",
   "version": "3.9.7"
  }
 },
 "nbformat": 4,
 "nbformat_minor": 1
}