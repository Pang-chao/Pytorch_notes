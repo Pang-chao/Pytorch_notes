{
 "cells": [
  {
   "cell_type": "markdown",
   "metadata": {
    "collapsed": true,
    "pycharm": {
     "name": "#%% md\n"
    }
   },
   "source": [
    "MNIST-获取数据"
   ]
  },
  {
   "cell_type": "code",
   "execution_count": 4,
   "metadata": {
    "pycharm": {
     "name": "#%%\n"
    }
   },
   "outputs": [
    {
     "name": "stderr",
     "output_type": "stream",
     "text": [
      "/home/pc/anaconda3/envs/mocnf/lib/python3.9/site-packages/torchvision/datasets/mnist.py:498: UserWarning: The given NumPy array is not writeable, and PyTorch does not support non-writeable tensors. This means you can write to the underlying (supposedly non-writeable) NumPy array using the tensor. You may want to copy the array to protect its data or make it writeable before converting it to a tensor. This type of warning will be suppressed for the rest of this program. (Triggered internally at  /opt/conda/conda-bld/pytorch_1623448255797/work/torch/csrc/utils/tensor_numpy.cpp:180.)\n",
      "  return torch.from_numpy(parsed.astype(m[2], copy=False)).view(*s)\n"
     ]
    }
   ],
   "source": [
    "import torchvision.transforms as transforms\n",
    "import torchvision.datasets as datasets\n",
    "import torch\n",
    "\n",
    "transformation = transforms.Compose([transforms.ToTensor(),\n",
    "                                     transforms.Normalize((0.1307,), (0.3081,))])\n",
    "train_dataset = datasets.MNIST('data/', train=True, transform=transformation, download=False)\n",
    "test_dataset = datasets.MNIST('data/', train=False, transform=transformation, download=False)\n",
    "train_loader = torch.utils.data.DataLoader(train_dataset, batch_size=32,shuffle=True)\n",
    "test_loader = torch.utils.data.DataLoader(test_dataset, batch_size=32,shuffle=True)"
   ]
  },
  {
   "cell_type": "markdown",
   "metadata": {},
   "source": [
    "先来看一下要处理的数据是什么样的。"
   ]
  },
  {
   "cell_type": "code",
   "execution_count": 6,
   "metadata": {
    "pycharm": {
     "name": "#%%\n"
    }
   },
   "outputs": [
    {
     "data": {
      "text/plain": "<Figure size 432x288 with 1 Axes>",
      "image/png": "[encoded data removed]"
     },
     "metadata": {
      "needs_background": "light"
     },
     "output_type": "display_data"
    }
   ],
   "source": [
    "from matplotlib import pyplot as plt\n",
    "\n",
    "def plot_img(image):\n",
    "    image = image.numpy()[0]\n",
    "    mean = 0.1307\n",
    "    std = 0.3081\n",
    "    image = ((mean * image) + std)\n",
    "    plt.imshow(image, cmap='gray')\n",
    "\n",
    "sample_data = next(iter(train_loader))\n",
    "plot_img(sample_data[0][1])"
   ]
  },
  {
   "cell_type": "markdown",
   "metadata": {
    "pycharm": {
     "name": "#%% md\n"
    }
   },
   "source": [
    "网络架构：Conv2d-MaxPool2d-RELU-Conv2d-dropout-MaxPool2d-RELU-view-FC-RELU-dropout-FC-Log_softmax"
   ]
  },
  {
   "cell_type": "code",
   "execution_count": 8,
   "outputs": [],
   "source": [
    "import torch.nn as nn\n",
    "import torch.nn.functional as F\n",
    "\n",
    "class Net(nn.Module):\n",
    "    def __init__(self):\n",
    "        super().__init__()\n",
    "        self.conv1 = nn.Conv2d(1, 10, kernel_size=5)\n",
    "        self.conv2 = nn.Conv2d(10, 20, kernel_size=5)\n",
    "        self.conv2_drop = nn.Dropout2d()\n",
    "        self.fc1 = nn.Linear(320, 50)\n",
    "        self.fc2 = nn.Linear(50, 10)\n",
    "\n",
    "    def forward(self, x):\n",
    "        x = F.relu(F.max_pool2d(self.conv1(x), 2))\n",
    "        x = F.relu(F.max_pool2d(self.conv2_drop(self.conv2(x)), 2))\n",
    "        x = x.view(-1, 320)\n",
    "        x = F.relu(self.fc1(x))\n",
    "        x = F.dropout(x, training=self.training)\n",
    "        x = self.fc2(x)\n",
    "        return F.log_softmax(x)"
   ],
   "metadata": {
    "collapsed": false,
    "pycharm": {
     "name": "#%%\n"
    }
   }
  },
  {
   "cell_type": "markdown",
   "metadata": {
    "pycharm": {
     "name": "#%% md\n"
    }
   },
   "source": [
    "训练模型"
   ]
  },
  {
   "cell_type": "code",
   "execution_count": 15,
   "outputs": [
    {
     "name": "stderr",
     "output_type": "stream",
     "text": [
      "/tmp/ipykernel_19524/3814534869.py:20: UserWarning: Implicit dimension choice for log_softmax has been deprecated. Change the call to include dim=X as an argument.\n",
      "  return F.log_softmax(x)\n"
     ]
    },
    {
     "name": "stdout",
     "output_type": "stream",
     "text": [
      "loss:0.0012382640838623047,accuracy:0.006666666828095913\n",
      "loss:0.007403902435302734,accuracy:0.03999999910593033\n",
      "loss:0.0012287155151367187,accuracy:0.004999999888241291\n",
      "loss:0.007471340179443359,accuracy:0.03999999910593033\n",
      "loss:0.0012075247446695964,accuracy:0.006666666828095913\n",
      "loss:0.007415176391601563,accuracy:0.029999999329447746\n",
      "loss:0.0012889352162679037,accuracy:0.0016666667070239782\n",
      "loss:0.007347284698486328,accuracy:0.029999999329447746\n",
      "loss:0.0012293154398600261,accuracy:0.008333333767950535\n",
      "loss:0.0074293067932128904,accuracy:0.019999999552965164\n",
      "loss:0.0012610769907633464,accuracy:0.0033333334140479565\n",
      "loss:0.007353229522705078,accuracy:0.07000000029802322\n",
      "loss:0.0012324097951253255,accuracy:0.004999999888241291\n",
      "loss:0.007393995666503906,accuracy:0.029999999329447746\n",
      "loss:0.0012447017669677733,accuracy:0.0033333334140479565\n",
      "loss:0.007414054870605469,accuracy:0.019999999552965164\n",
      "loss:0.0012297462463378907,accuracy:0.0016666667070239782\n",
      "loss:0.007336695098876953,accuracy:0.019999999552965164\n",
      "loss:0.0012326847076416015,accuracy:0.0016666667070239782\n",
      "loss:0.007323079681396484,accuracy:0.029999999329447746\n",
      "loss:0.0012224755605061849,accuracy:0.008333333767950535\n",
      "loss:0.007279498291015625,accuracy:0.029999999329447746\n",
      "loss:0.001238785171508789,accuracy:0.004999999888241291\n",
      "loss:0.007223131561279297,accuracy:0.07999999821186066\n",
      "loss:0.0012389249165852864,accuracy:0.004999999888241291\n",
      "loss:0.007357835388183594,accuracy:0.029999999329447746\n",
      "loss:0.0012278907775878907,accuracy:0.009999999776482582\n",
      "loss:0.00738905029296875,accuracy:0.029999999329447746\n",
      "loss:0.001226294453938802,accuracy:0.0033333334140479565\n",
      "loss:0.007429998016357422,accuracy:0.05000000074505806\n",
      "loss:0.0012303034464518229,accuracy:0.006666666828095913\n",
      "loss:0.0073676177978515625,accuracy:0.05999999865889549\n",
      "loss:0.0012173627217610676,accuracy:0.009999999776482582\n",
      "loss:0.007356786346435547,accuracy:0.05000000074505806\n",
      "loss:0.0012362077077229818,accuracy:0.0033333334140479565\n",
      "loss:0.007377545166015625,accuracy:0.05000000074505806\n",
      "loss:0.001220254643758138,accuracy:0.004999999888241291\n",
      "loss:0.007363719940185547,accuracy:0.03999999910593033\n"
     ]
    },
    {
     "data": {
      "text/plain": "<matplotlib.legend.Legend at 0x7f14accba8e0>"
     },
     "execution_count": 15,
     "metadata": {},
     "output_type": "execute_result"
    },
    {
     "data": {
      "text/plain": "<Figure size 432x288 with 1 Axes>",
      "image/png": "[encoded data removed]"
     },
     "metadata": {
      "needs_background": "light"
     },
     "output_type": "display_data"
    }
   ],
   "source": [
    "from torch.autograd import Variable\n",
    "import torch.optim as optim\n",
    "\n",
    "def fit(epoch, model, data_loader, phase='training', volatile=False):\n",
    "    if phase == 'training':\n",
    "        model.train()\n",
    "    if phase == 'validation':\n",
    "        model.eval()\n",
    "        volatile = True\n",
    "    running_loss = 0.0\n",
    "    running_correct = 0\n",
    "    for batch_idx, (data, target) in enumerate(data_loader):\n",
    "        if torch.cuda.is_available():\n",
    "            data, target = data.cuda(), target.cuda()\n",
    "        data, target = Variable(data, volatile), Variable(target)\n",
    "        if phase == 'training':\n",
    "            optimizer.zero_grad()\n",
    "        output = model(data)\n",
    "        loss = F.nll_loss(output, target)\n",
    "        running_loss += F.nll_loss(output, target, size_average=False).item()\n",
    "        preds = output.data.max(dim=1, keepdim=True)[1]\n",
    "        running_correct += preds.eq(target.data.view_as(preds)).cpu().sum()\n",
    "        if phase == 'training':\n",
    "            loss.backward()\n",
    "            optimizer.step()\n",
    "        loss = running_loss / len(data_loader.dataset)\n",
    "        accuracy = 100. * running_correct / len(data_loader.dataset)\n",
    "        print('loss:{0},accuracy:{1}'.format(loss, accuracy))\n",
    "        return loss, accuracy\n",
    "\n",
    "model = Net()\n",
    "if torch.cuda.is_available():\n",
    "    model.cuda()\n",
    "optimizer = optim.SGD(model.parameters(), lr=0.01, momentum=0.5)\n",
    "train_losses, train_accuracy = [], []\n",
    "val_losses, val_accuracy = [], []\n",
    "for epoch in range(1, 20):\n",
    "    epoch_loss, epoch_accuracy = fit(epoch, model, train_loader, phase='training')\n",
    "    val_epoch_loss, val_epoch_accuracy = fit(epoch, model, test_loader, phase='validation')\n",
    "    train_losses.append(epoch_loss)\n",
    "    train_accuracy.append(epoch_accuracy)\n",
    "    val_losses.append(val_epoch_loss)\n",
    "    val_accuracy.append(val_epoch_accuracy)\n",
    "\n",
    "plt.plot(range(1, len(train_accuracy)+1), train_accuracy, 'bo', label = 'training accuracy')\n",
    "plt.plot(range(1, len(val_accuracy)+1), val_accuracy, 'r', label = 'validation accuracy')\n",
    "plt.legend()"
   ],
   "metadata": {
    "collapsed": false,
    "pycharm": {
     "name": "#%%\n"
    }
   }
  },
  {
   "cell_type": "code",
   "execution_count": null,
   "metadata": {},
   "outputs": [],
   "source": []
  }
 ],
 "metadata": {
  "kernelspec": {
   "display_name": "Python 3 (ipykernel)",
   "language": "python",
   "name": "python3"
  },
  "language_info": {
   "codemirror_mode": {
    "name": "ipython",
    "version": 3
   },
   "file_extension": ".py",
   "mimetype": "text/x-python",
   "name": "python",
   "nbconvert_exporter": "python",
   "pygments_lexer": "ipython3",
   "version": "3.9.7"
  }
 },
 "nbformat": 4,
 "nbformat_minor": 1
}