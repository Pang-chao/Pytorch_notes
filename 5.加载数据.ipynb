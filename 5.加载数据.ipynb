{
 "cells": [
  {
   "cell_type": "markdown",
   "metadata": {
    "collapsed": true,
    "pycharm": {
     "name": "#%% md\n"
    }
   },
   "source": [
    "两个重要的工具类：Dataset类和DataLoader类。\n",
    "\n",
    "1.Dataset类\n",
    "\n",
    "任何自定义的数据集类，都要继承自Pytorch的数据集类。\n",
    "自定义的类必须实现两个函数：__len__(self)和__getitem__(self, idx)。\n",
    "\n",
    "DataLoader是一个比较重要的类，它为我们提供的常用操作有：\n",
    "batch_size(每个batch的大小), shuffle(是否进行shuffle操作),\n",
    "num_workers(加载数据的时候使用几个子进程)"
   ]
  },
  {
   "cell_type": "code",
   "execution_count": null,
   "outputs": [],
   "source": [
    "import numpy as np\n",
    "from torch.utils.data import Dataset\n",
    "from torch.utils.data import DataLoader\n",
    "\n",
    "class Dogs_and_cats(Dataset):\n",
    "    def __init__(self, root_dir, size=(224,224)):\n",
    "        self.files = glob(root_dir)\n",
    "        self.size = size\n",
    "    def __len__(self):\n",
    "        return len(self.files)\n",
    "    def __getitem__(self, idx):\n",
    "        img = np.asarray(Image.open(self.files[idx]).resize(self.size))\n",
    "        label = self.files[idx].split('/')[-2]\n",
    "        return img, label"
   ],
   "metadata": {
    "collapsed": false,
    "pycharm": {
     "name": "#%%\n"
    }
   }
  },
  {
   "cell_type": "markdown",
   "source": [
    "2.DataLoader类\n",
    "\n",
    "它将数据集对象和不同的采样器联合，并使用单进程或多进程的迭代器。\n",
    "\n",
    "参数：\n",
    "dataset(Dataset): 传入的数据集。\n",
    "\n",
    "batch_size(int, optional): 每个batch有多少个样本。\n",
    "\n",
    "shuffle(bool, optional): 在每个epoch开始的时候，对数据进行重新排序。\n",
    "\n",
    "sampler(Sampler, optional): 自定义从数据集中取样本的策略，如果指定这个参数，\n",
    "那么shuffle必须为False。\n",
    "\n",
    "batch_sampler(Sampler, optional): 与sampler类似，但是一次只返回一个batch的indices（索引），\n",
    "需要注意的是，一旦指定了这个参数，那么batch_size,shuffle,sampler,drop_last就不能再制定了\n",
    "（互斥——Mutually exclusive）。\n",
    "\n",
    "num_workers (int, optional): 这个参数决定了有几个进程来处理data loading。\n",
    "0意味着所有的数据都会被load进主进程。（默认为0）\n",
    "\n",
    "collate_fn (callable, optional): 将一个list的sample组成一个mini-batch的函数\n",
    "\n",
    "pin_memory (bool, optional)： 如果设置为True，那么data loader将会在返回它们之前，\n",
    "将tensors拷贝到CUDA中的固定内存（CUDA pinned memory）中."
   ],
   "metadata": {
    "collapsed": false
   }
  },
  {
   "cell_type": "code",
   "execution_count": null,
   "outputs": [],
   "source": [
    "dataloader = DataLoader(dogsdset, batch_size=32, num_workers=2)"
   ],
   "metadata": {
    "collapsed": false,
    "pycharm": {
     "name": "#%%\n"
    }
   }
  }
 ],
 "metadata": {
  "kernelspec": {
   "display_name": "Python 3",
   "language": "python",
   "name": "python3"
  },
  "language_info": {
   "codemirror_mode": {
    "name": "ipython",
    "version": 2
   },
   "file_extension": ".py",
   "mimetype": "text/x-python",
   "name": "python",
   "nbconvert_exporter": "python",
   "pygments_lexer": "ipython2",
   "version": "2.7.6"
  }
 },
 "nbformat": 4,
 "nbformat_minor": 0
}